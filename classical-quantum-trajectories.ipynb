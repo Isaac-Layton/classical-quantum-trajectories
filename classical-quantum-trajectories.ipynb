{
 "cells": [
  {
   "cell_type": "markdown",
   "metadata": {},
   "source": [
    "# Classical-quantum trajectories"
   ]
  },
  {
   "cell_type": "markdown",
   "metadata": {},
   "source": [
    "In this notebook we generate the example classical-quantum trajectories appearing in the Appendix of [arxiv XXXXX/XXXXXX](https://www.google.com)."
   ]
  },
  {
   "cell_type": "markdown",
   "metadata": {},
   "source": [
    "### Basics of the code"
   ]
  },
  {
   "cell_type": "markdown",
   "metadata": {},
   "source": [
    "Let's start by importing the usual dependencies:"
   ]
  },
  {
   "cell_type": "code",
   "execution_count": 1,
   "metadata": {},
   "outputs": [],
   "source": [
    "import numpy as np\n",
    "import matplotlib.pyplot as plt"
   ]
  },
  {
   "cell_type": "markdown",
   "metadata": {},
   "source": [
    "The core goal in what follows is to simulate how a classical and quantum system interact. Their evolution may be represented entirely by the classical point in phase space $Z_s$ and the quantum state $\\rho_s$ (or $|\\psi\\rangle_s$ for pure states) at each point in time $s$, and so these will intially appear in the code as"
   ]
  },
  {
   "cell_type": "code",
   "execution_count": 3,
   "metadata": {},
   "outputs": [],
   "source": [
    "N=10**6 #number of timesteps in simulation\n",
    "\n",
    "Z_s=np.zeros(N + 1)\n",
    "rho_s = np.zeros((N + 1,2,2),dtype = 'complex_')\n",
    "psi_s = np.zeros((N + 1,2),dtype = 'complex_')"
   ]
  },
  {
   "cell_type": "markdown",
   "metadata": {},
   "source": [
    "The remaining task is to fill in these blank vectors by a suitable numerical approximation to the dynamics. The dynamics generating these trajectories are generally stochastic differential equations of the form\n",
    "\n",
    "$$ dZ_t=\\mu(\\rho,Z) dt + \\sigma(Z) dW $$\n",
    "$$ d\\rho_t=f(\\rho,Z) dt + g(\\rho,Z) dW $$\n",
    "\n",
    "As the applications of the current work are to illustrate how classical-quantum trajectories appear in toy models and provide proof-of-principle for their simulation, we will only consider the most basic of stochastic finite difference schemes, known as the [Euler-Maruyama method](https://en.wikipedia.org/wiki/Euler%E2%80%93Maruyama_method). The idea here is to generate the Wiener increment via"
   ]
  },
  {
   "cell_type": "code",
   "execution_count": 4,
   "metadata": {},
   "outputs": [],
   "source": [
    "state=np.random.RandomState(seed=1) #fix a seed\n",
    "\n",
    "def dW(delta_t):\n",
    "    return state.normal(loc=0.0, scale=np.sqrt(delta_t))"
   ]
  },
  {
   "cell_type": "markdown",
   "metadata": {},
   "source": [
    "and then simulate the stochastic differential equation by considering the above stochastic differential equations as defining the increment to add to $Z_t$ or $\\rho_t$ at each timestep to find $Z_{t+\\delta t}$,$\\rho_{t+\\delta t}$. Having done this, we may plot the relevant trajectory in phase space and Hilbert space using a suitable representation such as the Bloch sphere. Since it is not necessary for high numerical accuracy to understand the behaviour of these toy systems, we will assume that provided the trace of the quantum system is close to 1 the numerical model is behaving suitably well – in most cases this can be simply verified by looking at the path of the trajectory in Hilbert space."
   ]
  },
  {
   "cell_type": "code",
   "execution_count": null,
   "metadata": {},
   "outputs": [],
   "source": []
  }
 ],
 "metadata": {
  "kernelspec": {
   "display_name": "Python 3",
   "language": "python",
   "name": "python3"
  },
  "language_info": {
   "codemirror_mode": {
    "name": "ipython",
    "version": 3
   },
   "file_extension": ".py",
   "mimetype": "text/x-python",
   "name": "python",
   "nbconvert_exporter": "python",
   "pygments_lexer": "ipython3",
   "version": "3.6.2"
  }
 },
 "nbformat": 4,
 "nbformat_minor": 2
}
